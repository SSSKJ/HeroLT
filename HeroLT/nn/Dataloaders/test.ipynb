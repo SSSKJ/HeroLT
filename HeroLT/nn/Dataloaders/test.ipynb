{
 "cells": [],
 "metadata": {
  "kernelspec": {
   "display_name": "workspace_graph_py36",
   "language": "python",
   "name": "python3"
  },
  "language_info": {
   "codemirror_mode": {
    "name": "ipython",
    "version": 3
   },
   "file_extension": ".py",
   "mimetype": "text/x-python",
   "name": "python",
   "nbconvert_exporter": "python",
   "pygments_lexer": "ipython3",
   "version": "3.6.13"
  },
  "orig_nbformat": 4
 },
 "nbformat": 4,
 "nbformat_minor": 2
}
